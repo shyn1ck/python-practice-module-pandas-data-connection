{
 "cells": [
  {
   "cell_type": "markdown",
   "metadata": {
    "id": "Nqa_aLzLJ7PT"
   },
   "source": [
    "## Домашнее задание. День 7\n"
   ]
  },
  {
   "cell_type": "markdown",
   "metadata": {
    "id": "8rdbANMOJ7Qf"
   },
   "source": [
    "### Задача 1. Объединение данных с использованием merge и concat\n",
    "\n",
    "1. Создайте два DataFrame:\n",
    "    - Первый DataFrame `df1` должен содержать столбцы `id`, `name` и `age`.\n",
    "    - Второй DataFrame `df2` должен содержать столбцы `id`, `salary` и `department`.\n",
    "2. Объедините эти два DataFrame с использованием метода merge по столбцу `id`.\n",
    "3. Создайте третий DataFrame `df3`, который содержит столбцы `id`, `bonus` и `year`.\n",
    "4. Объедините все три DataFrame с использованием метода concat по оси 0."
   ]
  },
  {
   "cell_type": "code",
   "metadata": {
    "id": "kldguVjkJ7Qk",
    "ExecuteTime": {
     "end_time": "2024-11-02T07:33:39.004314Z",
     "start_time": "2024-11-02T07:33:38.958262Z"
    }
   },
   "source": [
    "# Решение\n",
    "import pandas as pd\n",
    "\n",
    "file1_path = '/Users/parvizjon/python-practicу-module-pandas-data-connection/python-practicу-module-pandas-data-connection/accounts_more_info.xlsx'\n",
    "file2_path = '/Users/parvizjon/python-practicу-module-pandas-data-connection/python-practicу-module-pandas-data-connection/accounts_card_info.xlsx'\n",
    "\n",
    "df1 = pd.read_excel(file1_path)\n",
    "df2 = pd.read_excel(file2_path)\n",
    "\n",
    "print(\"Данные из accounts_more_info.xlsx:\")\n",
    "print(df1.head())\n",
    "\n",
    "print(\"\\nДанные из accounts_card_info.xlsx:\")\n",
    "print(df2.head())\n",
    "\n",
    "df1.columns = ['id', 'balance', 'currency']\n",
    "\n",
    "df2.columns = ['id', 'customer_id', 'account_type', 'card_type']\n",
    "\n",
    "merged_df = pd.merge(df1, df2, on='id')\n",
    "print(\"\\nОбъединённый DataFrame по столбцу 'id':\")\n",
    "print(merged_df)\n",
    "\n",
    "data3 = {\n",
    "    'id': [1, 2, 3, 4, 5],\n",
    "    'bonus': [500, 700, 450, 600, 800],\n",
    "    'year': [2023, 2023, 2023, 2023, 2023]\n",
    "}\n",
    "df3 = pd.DataFrame(data3)\n",
    "print(\"\\nТретий DataFrame df3:\")\n",
    "print(df3)\n",
    "\n",
    "concat_df = pd.concat([merged_df, df3], axis=0, ignore_index=True)\n",
    "print(\"\\nКонкатенированный DataFrame по оси 0:\")\n",
    "print(concat_df)"
   ],
   "outputs": [
    {
     "name": "stdout",
     "output_type": "stream",
     "text": [
      "Данные из accounts_more_info.xlsx:\n",
      "   acc_id  balance currency\n",
      "0       3      369      EUR\n",
      "1       7      178      EUR\n",
      "2       2      888      RUB\n",
      "3       4      683      RUB\n",
      "4       8      795      USD\n",
      "\n",
      "Данные из accounts_card_info.xlsx:\n",
      "   acc_id  customer_id account_type    card_type\n",
      "0       6            2      Savings         VISA\n",
      "1       1            6      Savings  KORTI MILLI\n",
      "2       4            9     Checking   MASTERCARD\n",
      "3       4            5     Spending  KORTI MILLI\n",
      "4       8            1     Checking         VISA\n",
      "\n",
      "Объединённый DataFrame по столбцу 'id':\n",
      "      id  balance currency  customer_id account_type    card_type\n",
      "0      3      369      EUR            6      Savings   MASTERCARD\n",
      "1      3      369      EUR            5      Savings  KORTI MILLI\n",
      "2      3      369      EUR            4     Checking  KORTI MILLI\n",
      "3      3      369      EUR            6     Checking   MASTERCARD\n",
      "4      3      369      EUR            8     Spending  KORTI MILLI\n",
      "...   ..      ...      ...          ...          ...          ...\n",
      "4435   9      735      RUB            4      Savings         VISA\n",
      "4436   9      735      RUB            4     Checking  KORTI MILLI\n",
      "4437   9      735      RUB            8     Checking  KORTI MILLI\n",
      "4438   9      735      RUB            6     Checking   MASTERCARD\n",
      "4439   9      735      RUB            7      Savings  KORTI MILLI\n",
      "\n",
      "[4440 rows x 6 columns]\n",
      "\n",
      "Третий DataFrame df3:\n",
      "   id  bonus  year\n",
      "0   1    500  2023\n",
      "1   2    700  2023\n",
      "2   3    450  2023\n",
      "3   4    600  2023\n",
      "4   5    800  2023\n",
      "\n",
      "Конкатенированный DataFrame по оси 0:\n",
      "      id  balance currency  customer_id account_type    card_type  bonus  \\\n",
      "0      3    369.0      EUR          6.0      Savings   MASTERCARD    NaN   \n",
      "1      3    369.0      EUR          5.0      Savings  KORTI MILLI    NaN   \n",
      "2      3    369.0      EUR          4.0     Checking  KORTI MILLI    NaN   \n",
      "3      3    369.0      EUR          6.0     Checking   MASTERCARD    NaN   \n",
      "4      3    369.0      EUR          8.0     Spending  KORTI MILLI    NaN   \n",
      "...   ..      ...      ...          ...          ...          ...    ...   \n",
      "4440   1      NaN      NaN          NaN          NaN          NaN  500.0   \n",
      "4441   2      NaN      NaN          NaN          NaN          NaN  700.0   \n",
      "4442   3      NaN      NaN          NaN          NaN          NaN  450.0   \n",
      "4443   4      NaN      NaN          NaN          NaN          NaN  600.0   \n",
      "4444   5      NaN      NaN          NaN          NaN          NaN  800.0   \n",
      "\n",
      "        year  \n",
      "0        NaN  \n",
      "1        NaN  \n",
      "2        NaN  \n",
      "3        NaN  \n",
      "4        NaN  \n",
      "...      ...  \n",
      "4440  2023.0  \n",
      "4441  2023.0  \n",
      "4442  2023.0  \n",
      "4443  2023.0  \n",
      "4444  2023.0  \n",
      "\n",
      "[4445 rows x 8 columns]\n"
     ]
    }
   ],
   "execution_count": 6
  },
  {
   "cell_type": "markdown",
   "metadata": {
    "id": "y2kO9-X5J7Qr"
   },
   "source": [
    "### Задача 2. Объединение данных с использованием join\n",
    "\n",
    "1. Создайте два DataFrame:\n",
    "    - Первый DataFrame `df1` должен содержать столбцы `id`, `product` и `price`.\n",
    "    - Второй DataFrame `df2` должен содержать столбцы `id`, `quantity` и `supplier`.\n",
    "2. Установите столбец `id` в качестве индекса для обоих DataFrame.\n",
    "3. Объедините эти два DataFrame с использованием метода `join`."
   ]
  },
  {
   "cell_type": "code",
   "metadata": {
    "id": "39M1_oR8J7Qu",
    "ExecuteTime": {
     "end_time": "2024-11-02T07:40:26.273934Z",
     "start_time": "2024-11-02T07:40:26.154093Z"
    }
   },
   "source": [
    "# Решение \n",
    "import pandas as pd\n",
    "\n",
    "file1_path = '/Users/parvizjon/python-practicу-module-pandas-data-connection/python-practicу-module-pandas-data-connection/accounts_more_info.xlsx'\n",
    "file2_path = '/Users/parvizjon/python-practicу-module-pandas-data-connection/python-practicу-module-pandas-data-connection/accounts_card_info.xlsx'\n",
    "\n",
    "df1 = pd.read_excel(file1_path)\n",
    "df2 = pd.read_excel(file2_path)\n",
    "\n",
    "df1.columns = ['acc_id', 'product', 'price']\n",
    "df2.columns = ['acc_id', 'customer_id', 'account_type', 'card_type']\n",
    "\n",
    "df1.set_index('acc_id', inplace=True)\n",
    "df2.set_index('acc_id', inplace=True)\n",
    "\n",
    "joined_df = df1.join(df2, how='inner')  \n",
    "\n",
    "print(\"Объединённый DataFrame:\")\n",
    "print(joined_df)\n"
   ],
   "outputs": [
    {
     "name": "stdout",
     "output_type": "stream",
     "text": [
      "Объединённый DataFrame:\n",
      "        product price  customer_id account_type    card_type\n",
      "acc_id                                                      \n",
      "3           369   EUR            6      Savings   MASTERCARD\n",
      "3           369   EUR            5      Savings  KORTI MILLI\n",
      "3           369   EUR            4     Checking  KORTI MILLI\n",
      "3           369   EUR            6     Checking   MASTERCARD\n",
      "3           369   EUR            8     Spending  KORTI MILLI\n",
      "...         ...   ...          ...          ...          ...\n",
      "9           735   RUB            4      Savings         VISA\n",
      "9           735   RUB            4     Checking  KORTI MILLI\n",
      "9           735   RUB            8     Checking  KORTI MILLI\n",
      "9           735   RUB            6     Checking   MASTERCARD\n",
      "9           735   RUB            7      Savings  KORTI MILLI\n",
      "\n",
      "[4440 rows x 5 columns]\n"
     ]
    }
   ],
   "execution_count": 10
  },
  {
   "cell_type": "markdown",
   "metadata": {},
   "source": [
    "### Задача 3. Работа в классе\n",
    "\n",
    "У вас есть три таблицы с данными `cw_task`, `account_card_info` и `account_more_info`. Необходимо:\n",
    "\n",
    "1) Дополнить  инфомацию `cw_task`, которая хранится в двух файлах `account_more_info` и `account_card_info`;\n",
    "2) По полученным данным найти максимальное значение, минимальное, сумму, кол-во и среднее значение по типу платежа. В данном пункте также необходимо произвести обработку дубликатов, в случае их возникновения;\n",
    "3) Таблицы по  `account_more_info & account_card_info` объединить таким образом, чтобы новая таблица имела дополнительные колонки из второй таблицы, а также объединить так чтобы строки из одной таблицы были добавлены во вторую;\n",
    "4) Добавьте кросс-чеки которые будут выявлять ошибки в случае некорректного слияния данных: кол-во строк должно быть равно первоначальной длине `df` и не должно быть дубликатов по `transaction_id`"
   ]
  },
  {
   "cell_type": "code",
   "metadata": {
    "ExecuteTime": {
     "end_time": "2024-11-02T07:46:51.485993Z",
     "start_time": "2024-11-02T07:46:51.375120Z"
    }
   },
   "source": [
    "# Решение\n",
    "import pandas as pd\n",
    "\n",
    "account_more_info_path = '/Users/parvizjon/python-practicу-module-pandas-data-connection/python-practicу-module-pandas-data-connection/accounts_more_info.xlsx'\n",
    "account_card_info_path = '/Users/parvizjon/python-practicу-module-pandas-data-connection/python-practicу-module-pandas-data-connection/accounts_card_info.xlsx'\n",
    "cw_task_path = '/Users/parvizjon/python-practicу-module-pandas-data-connection/python-practicу-module-pandas-data-connection/cw_task.xlsx'\n",
    "\n",
    "account_more_info = pd.read_excel(account_more_info_path)\n",
    "account_card_info = pd.read_excel(account_card_info_path)\n",
    "cw_task = pd.read_excel(cw_task_path)\n",
    "\n",
    "cw_task = cw_task.merge(account_more_info, left_on='account_id', right_on='acc_id', how='left')\n",
    "cw_task = cw_task.merge(account_card_info, on='customer_id', how='left')\n",
    "duplicates = cw_task[cw_task.duplicated(subset='transaction_id', keep=False)]\n",
    "if not duplicates.empty:\n",
    "    print(\"Обнаружены дубликаты по transaction_id:\")\n",
    "    print(duplicates)\n",
    "\n",
    "cw_task_unique = cw_task.drop_duplicates(subset='transaction_id')\n",
    "aggregation_result = cw_task_unique.groupby('deb_type').agg(\n",
    "    max_amount=('amount', 'max'),\n",
    "    min_amount=('amount', 'min'),\n",
    "    total_amount=('amount', 'sum'),\n",
    "    count=('amount', 'count'),\n",
    "    avg_amount=('amount', 'mean')\n",
    ").reset_index()\n",
    "\n",
    "print(aggregation_result)\n",
    "\n",
    "initial_length = len(cw_task)\n",
    "final_length = len(cw_task_unique)\n",
    "\n",
    "if initial_length == final_length:\n",
    "    print(\"Количество строк совпадает с первоначальной длиной.\")\n",
    "else:\n",
    "    print(f\"Количество строк изменилось: из {initial_length} в {final_length}.\")\n"
   ],
   "outputs": [
    {
     "name": "stdout",
     "output_type": "stream",
     "text": [
      "Обнаружены дубликаты по transaction_id:\n",
      "        transaction_id  customer_id  amount deb_type  account_id  acc_id_x  \\\n",
      "0                    1            6      83    Компы           6         6   \n",
      "1                    1            6      83    Компы           6         6   \n",
      "2                    1            6      83    Компы           6         6   \n",
      "3                    1            6      83    Компы           6         6   \n",
      "4                    1            6      83    Компы           6         6   \n",
      "...                ...          ...     ...      ...         ...       ...   \n",
      "100313             200            9     421    Компы           9         9   \n",
      "100314             200            9     421    Компы           9         9   \n",
      "100315             200            9     421    Компы           9         9   \n",
      "100316             200            9     421    Компы           9         9   \n",
      "100317             200            9     421    Компы           9         9   \n",
      "\n",
      "        balance currency  acc_id_y account_type    card_type  \n",
      "0           335      USD         1      Savings  KORTI MILLI  \n",
      "1           335      USD         6     Checking         VISA  \n",
      "2           335      USD         3      Savings   MASTERCARD  \n",
      "3           335      USD         9     Checking         VISA  \n",
      "4           335      USD         2     Checking  KORTI MILLI  \n",
      "...         ...      ...       ...          ...          ...  \n",
      "100313      735      RUB         7     Spending         VISA  \n",
      "100314      735      RUB         5     Spending         VISA  \n",
      "100315      735      RUB         6      Savings  KORTI MILLI  \n",
      "100316      735      RUB         4      Savings         VISA  \n",
      "100317      735      RUB         4      Savings  KORTI MILLI  \n",
      "\n",
      "[100318 rows x 11 columns]\n",
      "      deb_type  max_amount  min_amount  total_amount  count  avg_amount\n",
      "0          Еда         487          66         14737     48  307.020833\n",
      "1        Компы         492          52         14721     50  294.420000\n",
      "2  Путешествия         496          54         11450     47  243.617021\n",
      "3        Учеба         499          54         15223     55  276.781818\n",
      "Количество строк изменилось: из 100318 в 200.\n"
     ]
    }
   ],
   "execution_count": 18
  }
 ],
 "metadata": {
  "colab": {
   "provenance": [
    {
     "file_id": "1LmHsb8kD9kcDr0rFwSPofxNRQac4h0H_",
     "timestamp": 1706379738314
    }
   ]
  },
  "kernelspec": {
   "display_name": "Python 3",
   "language": "python",
   "name": "python3"
  },
  "language_info": {
   "codemirror_mode": {
    "name": "ipython",
    "version": 3
   },
   "file_extension": ".py",
   "mimetype": "text/x-python",
   "name": "python",
   "nbconvert_exporter": "python",
   "pygments_lexer": "ipython3",
   "version": "3.12.1"
  },
  "orig_nbformat": 4
 },
 "nbformat": 4,
 "nbformat_minor": 0
}
